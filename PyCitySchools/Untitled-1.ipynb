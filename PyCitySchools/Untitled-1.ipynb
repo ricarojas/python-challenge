{
 "cells": [
  {
   "cell_type": "code",
   "execution_count": null,
   "metadata": {},
   "outputs": [],
   "source": [
    "blablabla"
   ]
  }
 ],
 "metadata": {
  "kernelspec": {
   "display_name": "PythonData",
   "language": "python",
   "name": "python3"
  },
  "language_info": {
   "name": "python",
   "version": "3.7.7 (default, May  6 2020, 04:59:01) \n[Clang 4.0.1 (tags/RELEASE_401/final)]"
  },
  "orig_nbformat": 4,
  "vscode": {
   "interpreter": {
    "hash": "333633001cc15ad93928d314fcba92f66f0fda7321b77b96773266965763bb3c"
   }
  }
 },
 "nbformat": 4,
 "nbformat_minor": 2
}
